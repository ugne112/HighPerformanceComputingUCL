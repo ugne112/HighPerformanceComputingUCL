{
 "cells": [
  {
   "cell_type": "markdown",
   "metadata": {},
   "source": [
    "# Simulation of a discrete difussion process on the grid"
   ]
  },
  {
   "cell_type": "markdown",
   "metadata": {},
   "source": [
    "## Part 1"
   ]
  },
  {
   "cell_type": "markdown",
   "metadata": {},
   "source": [
    "### Implementing the function "
   ]
  },
  {
   "cell_type": "code",
   "execution_count": 1,
   "metadata": {},
   "outputs": [],
   "source": [
    "import numpy as np\n",
    "import numba\n",
    "\n",
    "def diffusion_iteration(un):\n",
    "    \"\"\"\n",
    "    Perform one diffusion step for all given grid points.\n",
    "    \n",
    "    Parameters\n",
    "    ----------\n",
    "    un : numpy.ndarray\n",
    "        Numpy array of type `float64` and dimension (N + 2, N + 2) that stores the\n",
    "        function values at step n.\n",
    "        \n",
    "    This function returns a Numpy array of dimension (N + 2, N + 2) of type `float64`\n",
    "    that contains the function values after performing one step of the above diffusion\n",
    "    iteration.\n",
    "    \"\"\"\n",
    "    unp1 = np.random.rand(len(un), len(un)) #defining the result un+1 which will be overwritten\n",
    "    for row_index in range(len(un)):  \n",
    "        for col_index in range(len(un[row_index])): \n",
    "            if (row_index == 0) or (row_index == len(un) - 1) or (col_index == 0) or (col_index == len(un) -1):\n",
    "                unp1[row_index, col_index] = un[row_index, col_index]  #the boundary values remain constant going from un to unp1\n",
    "            else:\n",
    "                unp1[row_index, col_index] = (un[row_index+1, col_index] +un[row_index-1, col_index] + un[row_index, col_index + 1] + un[row_index, col_index-1] )/4 \n",
    "                #non-boundary values are calculated as averages of neighbouring values for the step unp1\n",
    "    return unp1\n",
    "\n"
   ]
  },
  {
   "cell_type": "code",
   "execution_count": 2,
   "metadata": {},
   "outputs": [],
   "source": [
    "un = np.random.rand(10, 10).astype('float64') "
   ]
  },
  {
   "cell_type": "code",
   "execution_count": 3,
   "metadata": {
    "scrolled": true
   },
   "outputs": [
    {
     "data": {
      "text/plain": [
       "array([[0.57240975, 0.3343906 , 0.2977366 , 0.63638805, 0.30673771,\n",
       "        0.62696074, 0.1028851 , 0.64315519, 0.84253788, 0.70562567],\n",
       "       [0.76586149, 0.61655106, 0.35418598, 0.38026075, 0.41398751,\n",
       "        0.41263458, 0.51178567, 0.63107304, 0.7734677 , 0.86833902],\n",
       "       [0.16556188, 0.33078509, 0.45305882, 0.47808269, 0.34912957,\n",
       "        0.55443893, 0.46596053, 0.62802953, 0.54450328, 0.71210837],\n",
       "       [0.57924506, 0.50044702, 0.39352446, 0.55683834, 0.63821456,\n",
       "        0.56930501, 0.49553182, 0.55455359, 0.64162789, 0.63705085],\n",
       "       [0.60637461, 0.50421302, 0.43808948, 0.45993771, 0.69385823,\n",
       "        0.46201808, 0.59247924, 0.4700404 , 0.56654318, 0.15491165],\n",
       "       [0.19810714, 0.43393034, 0.48185908, 0.6133454 , 0.44944904,\n",
       "        0.50380819, 0.25795705, 0.58223377, 0.5629091 , 0.8687352 ],\n",
       "       [0.36919924, 0.72061818, 0.554572  , 0.4703837 , 0.76788106,\n",
       "        0.42557983, 0.55474155, 0.40781535, 0.5224658 , 0.1473127 ],\n",
       "       [0.31360565, 0.36105232, 0.69517995, 0.533992  , 0.66228796,\n",
       "        0.72496561, 0.62840645, 0.68495862, 0.40755926, 0.15894082],\n",
       "       [0.10036785, 0.56682451, 0.10600774, 0.58579942, 0.3443048 ,\n",
       "        0.76778401, 0.65994596, 0.71995279, 0.41101996, 0.00901724],\n",
       "       [0.75770686, 0.4650183 , 0.07718258, 0.14254777, 0.03796743,\n",
       "        0.6337651 , 0.7302684 , 0.91061447, 0.09332421, 0.92755029]])"
      ]
     },
     "execution_count": 3,
     "metadata": {},
     "output_type": "execute_result"
    }
   ],
   "source": [
    "diffusion_iteration(un) #trying the function"
   ]
  },
  {
   "cell_type": "markdown",
   "metadata": {},
   "source": [
    "### Loop in which we generate different size of matrix N and plot against runtime"
   ]
  },
  {
   "cell_type": "markdown",
   "metadata": {},
   "source": [
    "#### 1. Size of matrix against runtime"
   ]
  },
  {
   "cell_type": "code",
   "execution_count": 4,
   "metadata": {},
   "outputs": [
    {
     "name": "stdout",
     "output_type": "stream",
     "text": [
      "This took 0.00025010108947753906 s\n",
      "This took 0.00669407844543457 s\n",
      "This took 0.021381855010986328 s\n",
      "This took 0.39687108993530273 s\n",
      "This took 1.5380730628967285 s\n",
      "This took 3.391177177429199 s\n",
      "This took 6.144426107406616 s\n",
      "[0.00025010108947753906, 0.00669407844543457, 0.021381855010986328, 0.39687108993530273, 1.5380730628967285, 3.391177177429199, 6.144426107406616]\n"
     ]
    }
   ],
   "source": [
    "import time\n",
    "sizeArray = [10, 50, 100, 500, 1000, 1500, 2000] # list of sizes of array will remain constant for following functions\n",
    "timeArray = [] \n",
    "\n",
    "for size in sizeArray:\n",
    "    un = np.random.rand(size, size) #for loop for the size of array N\n",
    "    \n",
    "    start = time.time()\n",
    "    diffusion_iteration(un)\n",
    "    stop = time.time()\n",
    "    interval = stop - start\n",
    "    timeArray.append(interval) #measuring the time taken to run diffusion_iteration\n",
    "    \n",
    "    print(f\"This took {interval} s\")\n",
    "\n",
    "print(timeArray)"
   ]
  },
  {
   "cell_type": "markdown",
   "metadata": {},
   "source": [
    "#### 2. Resulting plot"
   ]
  },
  {
   "cell_type": "code",
   "execution_count": 5,
   "metadata": {},
   "outputs": [
    {
     "data": {
      "text/plain": [
       "<matplotlib.legend.Legend at 0x7f9c8c9ca610>"
      ]
     },
     "execution_count": 5,
     "metadata": {},
     "output_type": "execute_result"
    },
    {
     "data": {
      "image/png": "[encoded data removed]",
      "text/plain": [
       "<Figure size 432x288 with 1 Axes>"
      ]
     },
     "metadata": {
      "needs_background": "light"
     },
     "output_type": "display_data"
    }
   ],
   "source": [
    "import matplotlib.pyplot as plt\n",
    "%matplotlib inline\n",
    "plt.plot(sizeArray, timeArray, label = 'pure Python')\n",
    "\n",
    "plt.xlabel('Array size N')\n",
    "plt.ylabel('Runtime');\n",
    "plt.legend()"
   ]
  },
  {
   "cell_type": "markdown",
   "metadata": {},
   "source": [
    "#### For this nested for loop, I expected the complexity to be O(N^2). The plot confirms this by indicating quadratic function."
   ]
  },
  {
   "cell_type": "markdown",
   "metadata": {},
   "source": [
    "## Part 2"
   ]
  },
  {
   "cell_type": "markdown",
   "metadata": {},
   "source": [
    "### Numba implementation without parallelisation "
   ]
  },
  {
   "cell_type": "markdown",
   "metadata": {},
   "source": [
    "#### For this, the function remains the same, only the decorator @njit from Numba is employed. This decorator tells to compile the function in no Python mode. Function is compiled into low-level machine code completely independent of the Python interpreter, resulting in faster performance. "
   ]
  },
  {
   "cell_type": "code",
   "execution_count": 6,
   "metadata": {},
   "outputs": [],
   "source": [
    "import numpy as np\n",
    "import numba\n",
    "\n",
    "from numba import njit, jit\n",
    "\n",
    "@njit \n",
    "def diffusion_iteration_compiled(un):\n",
    "    \"\"\"\n",
    "    Perform one diffusion step for all given grid points.\n",
    "    \n",
    "    Parameters\n",
    "    ----------\n",
    "    un : numpy.ndarray\n",
    "        Numpy array of type `float64` and dimension (N + 2, N + 2) that stores the\n",
    "        function values at step n.\n",
    "        \n",
    "    This function returns a Numpy array of dimension (N + 2, N + 2) of type `float64`\n",
    "    that contains the function values after performing one step of the above diffusion\n",
    "    iteration.\n",
    "    \"\"\"\n",
    "    unp1 = np.random.rand(len(un), len(un))\n",
    "    for row_index in range(len(un)):  \n",
    "        for col_index in range(len(un[row_index])): \n",
    "            if (row_index == 0) or (row_index == len(un) - 1) or (col_index == 0) or (col_index == len(un) -1):\n",
    "                unp1[row_index, col_index] = un[row_index, col_index]  \n",
    "            else:\n",
    "                unp1[row_index, col_index] = (un[row_index+1, col_index] +un[row_index-1, col_index] + un[row_index, col_index + 1] + un[row_index, col_index-1] )/4\n",
    "    return unp1"
   ]
  },
  {
   "cell_type": "code",
   "execution_count": 7,
   "metadata": {},
   "outputs": [
    {
     "name": "stdout",
     "output_type": "stream",
     "text": [
      "This took 1.3562119007110596 s\n",
      "This took 3.2901763916015625e-05 s\n",
      "This took 0.00010585784912109375 s\n",
      "This took 0.003075122833251953 s\n",
      "This took 0.009524106979370117 s\n",
      "This took 0.022996902465820312 s\n",
      "This took 0.03376483917236328 s\n",
      "[1.3562119007110596, 3.2901763916015625e-05, 0.00010585784912109375, 0.003075122833251953, 0.009524106979370117, 0.022996902465820312, 0.03376483917236328]\n"
     ]
    }
   ],
   "source": [
    "import time\n",
    "timeArray_numba = []\n",
    "\n",
    "# NEEDS TO BE RUN TWICE FOR OPTIMAL OUTPUT (AND FOR THE FOLLOWING PLOT TO MAKE SENSE)\n",
    "\n",
    "for size in sizeArray:\n",
    "    un = np.random.rand(size, size)\n",
    "    \n",
    "    start = time.time()\n",
    "    diffusion_iteration_compiled(un)\n",
    "    stop = time.time()\n",
    "    interval = stop - start\n",
    "    timeArray_numba.append(interval)\n",
    "    \n",
    "    print(f\"This took {interval} s\")\n",
    "\n",
    "print(timeArray_numba)"
   ]
  },
  {
   "cell_type": "markdown",
   "metadata": {},
   "source": [
    "#### Time outputs indicate a significant increase in speed of this Numba compiled function as compared to the pure Python function ran in Part 1."
   ]
  },
  {
   "cell_type": "markdown",
   "metadata": {},
   "source": [
    "### Numba implementation with parallelisation "
   ]
  },
  {
   "cell_type": "markdown",
   "metadata": {},
   "source": [
    "#### Here, @njit decorator is used together with (parallel=True). This allows for parallel executing threads independent of Python interpreter to be created. In the function, range is replaced by prange from Numba to parallelise the for loops."
   ]
  },
  {
   "cell_type": "code",
   "execution_count": 8,
   "metadata": {},
   "outputs": [],
   "source": [
    "import numpy as np\n",
    "import numba\n",
    "\n",
    "from numba import njit, prange\n",
    "\n",
    "\n",
    "@njit(parallel=True)\n",
    "def diffusion_iteration_parallelised(un):\n",
    "    \"\"\"\n",
    "    Perform one diffusion step for all given grid points.\n",
    "    \n",
    "    Parameters\n",
    "    ----------\n",
    "    un : numpy.ndarray\n",
    "        Numpy array of type `float64` and dimension (N + 2, N + 2) that stores the\n",
    "        function values at step n.\n",
    "        \n",
    "    This function returns a Numpy array of dimension (N + 2, N + 2) of type `float64`\n",
    "    that contains the function values after performing one step of the above diffusion\n",
    "    iteration.\n",
    "    \"\"\"\n",
    "    unp1 = np.random.rand(len(un), len(un))\n",
    "    for row_index in prange(len(un)):  \n",
    "        for col_index in prange(len(un[row_index])): \n",
    "            if (row_index == 0) or (row_index == len(un) - 1) or (col_index == 0) or (col_index == len(un) -1):\n",
    "                unp1[row_index, col_index] = un[row_index, col_index]  \n",
    "            else:\n",
    "                unp1[row_index, col_index] = (un[row_index+1, col_index] +un[row_index-1, col_index] + un[row_index, col_index + 1] + un[row_index, col_index-1] )/4 \n",
    "    return unp1"
   ]
  },
  {
   "cell_type": "code",
   "execution_count": 9,
   "metadata": {},
   "outputs": [
    {
     "name": "stdout",
     "output_type": "stream",
     "text": [
      "This took 1.9264898300170898 s\n",
      "This took 0.00032210350036621094 s\n",
      "This took 0.0002818107604980469 s\n",
      "This took 0.0023000240325927734 s\n",
      "This took 0.006634950637817383 s\n",
      "This took 0.011592388153076172 s\n",
      "This took 0.011992216110229492 s\n",
      "[1.9264898300170898, 0.00032210350036621094, 0.0002818107604980469, 0.0023000240325927734, 0.006634950637817383, 0.011592388153076172, 0.011992216110229492]\n"
     ]
    }
   ],
   "source": [
    "import time\n",
    "timeArray_par = []\n",
    "\n",
    "# NEEDS TO BE RUN TWICE FOR OPTIMAL OUTPUT (AND FOR THE FOLLOWING PLOT TO MAKE SENSE)\n",
    "\n",
    "for size in sizeArray:\n",
    "    un = np.random.rand(size, size)\n",
    "    \n",
    "    start = time.time()\n",
    "    diffusion_iteration_parallelised(un)\n",
    "    stop = time.time()\n",
    "    interval = stop - start\n",
    "    timeArray_par.append(interval)\n",
    "    \n",
    "    print(f\"This took {interval} s\")\n",
    "\n",
    "print(timeArray_par)"
   ]
  },
  {
   "cell_type": "markdown",
   "metadata": {},
   "source": [
    "#### The actual speed up is always lower than the theoretical speed up that we expect from the number of physical CPU cores."
   ]
  },
  {
   "cell_type": "markdown",
   "metadata": {},
   "source": [
    "### Plot comparing numba compiled and parallelised function speeds"
   ]
  },
  {
   "cell_type": "code",
   "execution_count": 10,
   "metadata": {},
   "outputs": [
    {
     "data": {
      "text/plain": [
       "<matplotlib.legend.Legend at 0x7f9c8d8d99d0>"
      ]
     },
     "execution_count": 10,
     "metadata": {},
     "output_type": "execute_result"
    },
    {
     "data": {
      "image/png": "[encoded data removed]",
      "text/plain": [
       "<Figure size 432x288 with 1 Axes>"
      ]
     },
     "metadata": {
      "needs_background": "light"
     },
     "output_type": "display_data"
    }
   ],
   "source": [
    "import matplotlib.pyplot as plt\n",
    "%matplotlib inline\n",
    "\n",
    "plt.plot(sizeArray, timeArray_numba, label = 'compiled')\n",
    "plt.plot(sizeArray, timeArray_par, label = 'parallelised')\n",
    "plt.xlabel('Array size N')\n",
    "plt.ylabel('Runtime')\n",
    "plt.legend()\n",
    "\n",
    "\n"
   ]
  },
  {
   "cell_type": "markdown",
   "metadata": {},
   "source": [
    "####  The plot shows that for large enough values of N parallelised function runs faster than the compiled function without parallelisation."
   ]
  },
  {
   "cell_type": "markdown",
   "metadata": {},
   "source": [
    "# Part 3"
   ]
  },
  {
   "cell_type": "markdown",
   "metadata": {},
   "source": [
    "## Animation of diffusion process"
   ]
  },
  {
   "cell_type": "markdown",
   "metadata": {},
   "source": [
    "### Initial distribution\n"
   ]
  },
  {
   "cell_type": "code",
   "execution_count": 10,
   "metadata": {},
   "outputs": [
    {
     "data": {
      "text/plain": [
       "array([[0., 0., 0., ..., 0., 0., 0.],\n",
       "       [0., 0., 0., ..., 0., 0., 0.],\n",
       "       [0., 0., 0., ..., 0., 0., 0.],\n",
       "       ...,\n",
       "       [0., 0., 0., ..., 0., 0., 0.],\n",
       "       [0., 0., 0., ..., 0., 0., 0.],\n",
       "       [0., 0., 0., ..., 0., 0., 0.]])"
      ]
     },
     "execution_count": 10,
     "metadata": {},
     "output_type": "execute_result"
    }
   ],
   "source": [
    "import numpy as np\n",
    "import matplotlib.pyplot as plt\n",
    "\n",
    "u0_row1 = np.linspace(50000, 50000, 100, dtype=np.float64)\n",
    "u0 = np.zeros((100, 100))\n",
    "u0"
   ]
  },
  {
   "cell_type": "code",
   "execution_count": 11,
   "metadata": {},
   "outputs": [
    {
     "data": {
      "text/plain": [
       "array([[0., 0., 0., ..., 0., 0., 0.],\n",
       "       [0., 0., 0., ..., 0., 0., 0.],\n",
       "       [0., 0., 0., ..., 0., 0., 0.],\n",
       "       ...,\n",
       "       [0., 0., 0., ..., 0., 0., 0.],\n",
       "       [0., 0., 0., ..., 0., 0., 0.],\n",
       "       [0., 0., 0., ..., 0., 0., 0.]])"
      ]
     },
     "execution_count": 11,
     "metadata": {},
     "output_type": "execute_result"
    }
   ],
   "source": [
    "u0[50] = u0_row1\n",
    "u0[50, 0] = 0 #Changing the 1st element of 50th row to 0 as stated in the boundary condition\n",
    "u0[50, -1] = 0 #Changing the last element of 50th row to 0 as stated in the boundary condition\n",
    "u0"
   ]
  },
  {
   "cell_type": "code",
   "execution_count": 12,
   "metadata": {},
   "outputs": [
    {
     "data": {
      "image/png": "[encoded data removed]",
      "text/plain": [
       "<Figure size 432x288 with 1 Axes>"
      ]
     },
     "metadata": {
      "needs_background": "light"
     },
     "output_type": "display_data"
    }
   ],
   "source": [
    "fig, ax = plt.subplots()"
   ]
  },
  {
   "cell_type": "code",
   "execution_count": 13,
   "metadata": {},
   "outputs": [
    {
     "data": {
      "text/plain": [
       "<matplotlib.image.AxesImage at 0x7ff8a61691f0>"
      ]
     },
     "execution_count": 13,
     "metadata": {},
     "output_type": "execute_result"
    }
   ],
   "source": [
    "ax.imshow(u0)"
   ]
  },
  {
   "cell_type": "code",
   "execution_count": 14,
   "metadata": {},
   "outputs": [
    {
     "data": {
      "image/png": "[encoded data removed]",
      "text/plain": [
       "<Figure size 432x288 with 1 Axes>"
      ]
     },
     "execution_count": 14,
     "metadata": {},
     "output_type": "execute_result"
    }
   ],
   "source": [
    "fig #image of the initial distribution "
   ]
  },
  {
   "cell_type": "code",
   "execution_count": 29,
   "metadata": {},
   "outputs": [
    {
     "data": {
      "text/html": [
       "<video width=\"720\" height=\"720\" controls autoplay loop>\n",
       "  <source type=\"video/mp4\" src=\"data:video/mp4;base64,AAAAHGZ0eXBNNFYgAAACAGlzb21pc28yYXZjMQAAAAhmcmVlAAAQA21kYXQAAAKgBgX//5zcRem9\n",
       "5tlIt5Ys2CDZI+7veDI2NCAtIGNvcmUgMTU3IC0gSC4yNjQvTVBFRy00IEFWQyBjb2RlYyAtIENv\n",
       "cHlsZWZ0IDIwMDMtMjAxOCAtIGh0dHA6Ly93d3cudmlkZW9sYW4ub3JnL3gyNjQuaHRtbCAtIG9w\n",
       "dGlvbnM6IGNhYmFjPTEgcmVmPTMgZGVibG9jaz0xOjA6MCBhbmFseXNlPTB4MzoweDExMyBtZT1o\n",
       "ZXggc3VibWU9NyBwc3k9MSBwc3lfcmQ9MS4wMDowLjAwIG1peGVkX3JlZj0xIG1lX3JhbmdlPTE2\n",
       "IGNocm9tYV9tZT0xIHRyZWxsaXM9MSA4eDhkY3Q9MSBjcW09MCBkZWFkem9uZT0yMSwxMSBmYXN0\n",
       "X3Bza2lwPTEgY2hyb21hX3FwX29mZnNldD0tMiB0aHJlYWRzPTE4IGxvb2thaGVhZF90aHJlYWRz\n",
       "PTMgc2xpY2VkX3RocmVhZHM9MCBucj0wIGRlY2ltYXRlPTEgaW50ZXJsYWNlZD0wIGJsdXJheV9j\n",
       "b21wYXQ9MCBjb25zdHJhaW5lZF9pbnRyYT0wIGJmcmFtZXM9MyBiX3B5cmFtaWQ9MiBiX2FkYXB0\n",
       "PTEgYl9iaWFzPTAgZGlyZWN0PTEgd2VpZ2h0Yj0xIG9wZW5fZ29wPTAgd2VpZ2h0cD0yIGtleWlu\n",
       "dD0yNTAga2V5aW50X21pbj0xIHNjZW5lY3V0PTQwIGludHJhX3JlZnJlc2g9MCByY19sb29rYWhl\n",
       "YWQ9NDAgcmM9Y3JmIG1idHJlZT0xIGNyZj0yMy4wIHFjb21wPTAuNjAgcXBtaW49MCBxcG1heD02\n",
       "OSBxcHN0ZXA9NCBpcF9yYXRpbz0xLjQwIGFxPTE6MS4wMACAAAAIHmWIhAAX//731LfMsu1Tb7YL\n",
       "qPeiniZfQ3UlAZuWxO06gAAAAwAAAwAAAwDpVIJjfO4A0Yy0AAADAFPACpgXEFSNH/kQXdcQCZ27\n",
       "LD5CCnQeo27CkIyOH0vEKzOVee0Rhgw2y7zdItZGfuUWzaSSSCdy/JwMMv5KsVPFEHe+eCY1D35g\n",
       "+SCUFEb01kAsHyUVszmEVQZsl2LuO0W8qTZfQBAGsWB37Qswpj+8IFHrUEBQvvcpnC1mXpZ0v3cx\n",
       "H6xUzkyExNffk/IckNmNiA7aCxLYTU2XB/CN8XJOO1XG7rEgRdAAASNsgEOr28+tNTXRL7cTx9/2\n",
       "yV4KzgZ/KNMT+uQNso+NOnKd5gqXKy2gdMfBYigAAHlaJYMP+D3Paas65hAUAfMqOiwrvpPZ4JRY\n",
       "XxuWL0UpuB01mL+3qQnkpPd/0y+eB73DZpK+OznzZrySOymtzHrHPGsDdjJwdrwA2+JI/8icbIJL\n",
       "kEdQgO2VjPnCgW6pJhyqv9qlo6STrHBZvvTFTKqCtDJrwNPfWjwlbqYBl3ze/BnHlIkUPybD0KG2\n",
       "TSGovPMqbvSIupjsJ30wug9pFctEKBGvdkJuHjbH8xoBw4l10qO4bKs+yVa9R7ruMrwW2gTPYJBf\n",
       "7UvpBMfJSm2ylPulGQ/KMi+UciOfylaWMSNCtwDGdDit8+BhKGMvycXclF8zM7uaR0t5iRca6UxZ\n",
       "/vzQU23LNsscc/+lW5fJdUzpwvOLuKXgmm5i3kAoiFz7sKgpNxXxbAHq3qI8NeKWGKukPBnGvMOj\n",
       "1Z0FXaQ/8gtnmNiAtiZnRuE+QDjCtub4GBKTQGo/Da7Pl7f/KDDZNHlHHToZsDYjEtWbCRKawq2n\n",
       "KxpTUXrcoKa28B2woo/f/Zhuwr2WJ0HQVCDJbPvT8kI7szs7ueF37KI50pCjPPiOOXInAW/D//Le\n",
       "DsKLkz/y/nx8NcuZXe8v/6WwvzxUGXPhsFNmsJ7GeVSkg+gniLGoAAJ5Z9ixZGUYW1LMeXGa2q//\n",
       "4nT96xi/2zzBr5kEt5dar5tjRH1pYvb7f2aXBW9jv0GBmu5mMEAAApQzAVBO7Mp7qVRybh/yj9V8\n",
       "bFj5YPHNABmVgHO0OjnBGH3JR4Va2Jh+LtVXxHoTOLO2DBiBLXTMEReV02EHEzDl0DkkmXlJ1Yo7\n",
       "y0RySE5rPNiz2IeG4LwPW/qg6azRq+v/mfEaquuAm2egMZ8RyFk7Q7TXo9qXoILioboYHJ0rra1s\n",
       "4PqTcNSYkMkUzEnq/JXisx335wQt73eTSr/LB2piHYluBizfWnoHNJe3FgBAhTtouZjtzgvGUuVW\n",
       "YPihYU9CGAf+EbtfxJ8ytEzPE/0jWOsLtTKsKpz8gquxx2y1lG8uRTl5SDONqsnMPJ4PxiuhLKVw\n",
       "33Dz7H4R02NhINLSIGwHPn2sNwqXKYopB2bLl9KlvCg6UeFHRW8PDejjH+D8fiicIqhNgUzVhQJJ\n",
       "wGEjia5hm2taPwtJvNL5vazG4e7Hx24rmR9fX4KjKzGZgzz4Pb8afPm4rY7zbC138FhnthqCtXmD\n",
       "SzXEIQmamEriiiXyGGhBGUcYhRyalHJOUfbsn25pm6fGw8Ql/++gI/1Xu0sXFCRqYRbap++n7vl/\n",
       "XjzUa0mB/X+8uApY4xFLut14L2hMBHmWC9dmoF4AX6h9BSyvF3X03IHNNRR5mPrSQ8vmyA+Smry6\n",
       "a9lOYH5GJRn1q/Yui0jlSWJ8GQk4VzPiKwnjtTI1j38ZmlzkwtqANJQtFUCtXk9p34K90ZSaWiQD\n",
       "vfK/wEKM1orVCDDz4d2QGhvQ0G+r+Ndaeemez4xHzvjbGAubLoOW8h6PT9wyVtoRZrKdvNnL+U64\n",
       "2OeY/wph0Bz6f4+RUX076uMkHgjWlXq81f8LLib1QdJwfidZmSTeFI5J2y89IEyVMKxXg4rhRbh+\n",
       "MjV+0Z74L2d9UUBHorxS2UTC5bv6fU393AazUkgbZO2o1hk/5C365bS7DYNzn6DTQRnmKtzWhYJY\n",
       "IeRCh1SBkAdRBX9eptnWOxoq/UC3gXJc5ITCB5OEkuEt5x58AXM1LA3LfLcc0Tk20UUF//wT2Sfj\n",
       "e/VPlViH9V3uXcfAtGyVt1U9rnSjMPonD1uzcO2K71CbUaNQCZbqmiI+zT07swVB9gdKsNlYicPn\n",
       "OZh+dEGkZ3KbXZN66tvo/wmuOpWFXvhj6MXtdz/KW9eYvPpQFvprKi/+jzl+XtGS/EIEfYjK1x3s\n",
       "w1Y+Dk7h1orB/mD/flf+9xAzOwmGi8XMd1l5CDykfk85zcP8AVl5coTrHWNNMjR0aT4wBHTrON2K\n",
       "dPGMIKF02xBc5RWPFV0O+bIn9huTnTNSbKL1ZGNN46IbapikdnZPk7neJ7TlWjbKUQntblzw6oCi\n",
       "LswfSLGw1o0MRBIzL7nqIo5eb3r5960WTrpHFlilQnZaLAKOkTmWNzZ4EMlYc4N1nttspyri+RQP\n",
       "xy/6LE5IS1hXWzn6RsRW2j07QZMcZ2XYsC0h4otxUlZH/H3xCEVsWZHw0ngs3v53lxmTiXRHk03E\n",
       "PbD/bFlDSluIz4Txn+4CB8aemA/JJLqY/nhGcRUfzlt9ioH5oGvsZMyTxfHz8tuBMm8W0h+7ke/N\n",
       "KTz1AE1skeJeFl/IAabbQ3ORRw7h0DSyaSKXui6aaM5EMNUoge5TWYMaPkhedMZ0vpe9ew2ZeEXi\n",
       "FDzB4mxlJjhEROzHXJcR7qkZ8oPEoAFShRtc/KF+u4Ahv/OAHWd018kovYv96UApULdRlSMKUUAA\n",
       "AAMAAAMAAA/ZAAABH0GaImxBf/7aplgAAAMAAAMBsuDa6cNGY80f/9vC4FfN/9gWW5a5lvaUUg9r\n",
       "rirUfbFWnJ6AAAADAAADABRhfZgPa2WaXcz5PX22stvht3/+WZSlo5H/A3LJlTrpaW7pjfXWAoB2\n",
       "gOUe5AqeDiddPzAfpfi79nTfwOTfK1Cmfke6WQA8OV+5Q699UIwqTQRgQl8T8GPg16B4MHYNyGDW\n",
       "u7KZJhqpCFe/ELfb4ZhiBixibRYhQ1lQGtVAdXc17Zc2/LMDtFj/64DV+MspkHWiZUlynD8iDLJz\n",
       "x+8txG6S+pPe7E+1+Do7Pw7Ofxbv4KfS8PtKSWaIoWuMjr/TECdUywAAAwAEO1QLAizUBpjnpxCa\n",
       "kwaClJJm0iRa56pUOcFTAAAAlQGeQXkFfwAAAwAAAwABJhNQU+k+zYic7RgZIcoosO/dj+mID44N\n",
       "kFl8S+6K56/wXrSRXXm86gIZnHj2yDi0nnwunUbpz8/oXNOB1YUuV5HFvLSfWkqT4NZKK0WBnhL4\n",
       "t15vPzXkixs2SmjriP1VcWhPnKggpumrIxQV8VNaGB99IAAAAwADDK321TLCQsAAAsblNwVtAAAA\n",
       "nEGaRjwhkymEF//+2qZYAAADAAADAbLnURwwABcJ+5Yf/7nkjm9/UFodxbVpo6OHQp3/MP2nPDF6\n",
       "oV6jJDNa6BY1XIW/jd+DycMD/h3R1uIG5CMnd0nGfj460k0rwADeEH/hpF/S64wVyy3tb0x8m3Ul\n",
       "266iuDgHKac54oCFA965wxTrjORJOqM+2GG0sDWNdsGXVMsAAAMAAAMBvQAAAHJBnmRqU8FvAAAD\n",
       "AAADAAC+L+jAqMtzkdRJDcln99zXjie9rpBxGD6ufAdfa2fggCeZWFDTVb8ejBr3auwHu17tqlUH\n",
       "lzCDMh4EE1uTJkfQzxqfRFJd0cdsdny6y0k8NURUL5x/H19AzKVMsAAAAwAAGLEAAAAzAZ6DdEFf\n",
       "AAADAAADAAEkk2pxujnGQBF27he9AEgAAAMAAAMCrTu7apVBUQmAAAADANmBAAAAOwGehWpBXwAA\n",
       "AwAAAwABJJFeEC7qLEsbTsq/eQAAAwAABJP9rRlgjYyM+cSAAWjrNK8qZYAAAAMAAJmBAAAAtUGa\n",
       "iEmoQWiZTBTwW//+1qVQAAADAAAFcM1QU2hsBYP//z+B0SkkLgjTknZ1hASEASFR61+iIwc7JpBA\n",
       "AAADAAADAAiMACoFOoAHgoJj6is25eZK14gwt9hPVjN/EfXS+oNtp1XUMxCMFwbM2YlCYMAK9tSq\n",
       "BEMy6SmUrg37mPt4/8gmEt9ZieRXWAADTXGvJM54PqoITFZj188BJm5TBhYBupdK9C1d7prBe7Uq\n",
       "gAAAAwAA+YEAAAC1AZ6nakFfAAADAAADAAOhDgFPnkM2JeCcHirMj0vRYRzv4ytsr/JY/vZmkgLP\n",
       "FOYw3UmOVWBOJI/Dd2oRFEosUTgWcTEeZ3vPWooeFEwaLc54Vn16bvr3jJKyuAPfO6RxoTn6FU10\n",
       "shC5SiovSeDyO/gqnj0dcraxJePwAkj82dhJJkVlW6mSJOQ7gmapHiprQwPvpAAAAwAAYh+1SqBE\n",
       "pH7qMXUXAAADALh3qmWC4AAAAwAQsAAAAHdBmqlJ4QpSZTAgr//+1qVQAAADAAAFcD9EMTK/Yv0G\n",
       "tXIwMoVsp3yJsF0A68Ao7sMMwW0ubWXu21KoGr26HSBeFuetqrhXXsmy4AnPmwAAAwAAAwAAAwAA\n",
       "pYgAADMyE6beqVQQH/2YREFU65XvB73huGLOkfwCvgAAA6dtb292AAAAbG12aGQAAAAAAAAAAAAA\n",
       "AAAAAAPoAAAnEAABAAABAAAAAAAAAAAAAAAAAQAAAAAAAAAAAAAAAAAAAAEAAAAAAAAAAAAAAAAA\n",
       "AEAAAAAAAAAAAAAAAAAAAAAAAAAAAAAAAAAAAAAAAAACAAAC0XRyYWsAAABcdGtoZAAAAAMAAAAA\n",
       "AAAAAAAAAAEAAAAAAAAnEAAAAAAAAAAAAAAAAAAAAAAAAQAAAAAAAAAAAAAAAAAAAAEAAAAAAAAA\n",
       "AAAAAAAAAEAAAAAC0AAAAtAAAAAAACRlZHRzAAAAHGVsc3QAAAAAAAAAAQAAJxAAAIAAAAEAAAAA\n",
       "AkltZGlhAAAAIG1kaGQAAAAAAAAAAAAAAAAAAEAAAAKAAFXEAAAAAAAtaGRscgAAAAAAAAAAdmlk\n",
       "ZQAAAAAAAAAAAAAAAFZpZGVvSGFuZGxlcgAAAAH0bWluZgAAABR2bWhkAAAAAQAAAAAAAAAAAAAA\n",
       "JGRpbmYAAAAcZHJlZgAAAAAAAAABAAAADHVybCAAAAABAAABtHN0YmwAAAC0c3RzZAAAAAAAAAAB\n",
       "AAAApGF2YzEAAAAAAAAAAQAAAAAAAAAAAAAAAAAAAAAC0ALQAEgAAABIAAAAAAAAAAEAAAAAAAAA\n",
       "AAAAAAAAAAAAAAAAAAAAAAAAAAAAAAAAAAAY//8AAAAyYXZjQwFkAB//4QAZZ2QAH6zZQLQW6EAA\n",
       "AAMAQAAAAwCDxgxlgAEABmjr48siwAAAABx1dWlka2hA8l8kT8W6OaUbzwMj8wAAAAAAAAAYc3R0\n",
       "cwAAAAAAAAABAAAACgAAQAAAAAAUc3RzcwAAAAAAAAABAAAAAQAAAGBjdHRzAAAAAAAAAAoAAAAB\n",
       "AACAAAAAAAEAAMAAAAAAAQAAQAAAAAABAAFAAAAAAAEAAIAAAAAAAQAAAAAAAAABAABAAAAAAAEA\n",
       "AMAAAAAAAQAAQAAAAAABAACAAAAAABxzdHNjAAAAAAAAAAEAAAABAAAACgAAAAEAAAA8c3RzegAA\n",
       "AAAAAAAAAAAACgAACsYAAAEjAAAAmQAAAKAAAAB2AAAANwAAAD8AAAC5AAAAuQAAAHsAAAAUc3Rj\n",
       "bwAAAAAAAAABAAAALAAAAGJ1ZHRhAAAAWm1ldGEAAAAAAAAAIWhkbHIAAAAAAAAAAG1kaXJhcHBs\n",
       "AAAAAAAAAAAAAAAALWlsc3QAAAAlqXRvbwAAAB1kYXRhAAAAAQAAAABMYXZmNTguMjkuMTAw\n",
       "\">\n",
       "  Your browser does not support the video tag.\n",
       "</video>"
      ],
      "text/plain": [
       "<IPython.core.display.HTML object>"
      ]
     },
     "execution_count": 29,
     "metadata": {},
     "output_type": "execute_result"
    },
    {
     "data": {
      "image/png": "[encoded data removed]",
      "text/plain": [
       "<Figure size 720x720 with 1 Axes>"
      ]
     },
     "metadata": {
      "needs_background": "light"
     },
     "output_type": "display_data"
    }
   ],
   "source": [
    "%matplotlib inline\n",
    "# !conda install -c conda-forge ffmpeg # Install the movie maker\n",
    "import random\n",
    "import numpy as np\n",
    "\n",
    "import matplotlib.pyplot as plt\n",
    "\n",
    "import matplotlib.animation as animation\n",
    "from IPython.display import HTML\n",
    "\n",
    "fps = 1\n",
    "nSeconds = 10\n",
    "\n",
    "#First set up the figure, the axis, and the plot element we want to animate\n",
    "\n",
    "fig = plt.figure(figsize=(10,10))\n",
    "u_3dArray = [u0]\n",
    "\n",
    "im = plt.imshow(u0, interpolation='none', aspect='auto', vmin=0, vmax=1)\n",
    "\n",
    "\n",
    "def animate_func(i):\n",
    "    # Append u_3dArray with output of diffusion function\n",
    "    u_3dArray.append(diffusion_iteration(u_3dArray[i]))\n",
    "    \n",
    "    im.set_array(u_3dArray[i])\n",
    "    return [im]\n",
    "\n",
    "anim = animation.FuncAnimation(\n",
    "                               fig, \n",
    "                               animate_func, \n",
    "                               frames = nSeconds * fps,\n",
    "                               interval = 1000 / fps, # in ms\n",
    "                               )\n",
    "\n",
    "\n",
    "HTML(anim.to_html5_video())"
   ]
  },
  {
   "cell_type": "markdown",
   "metadata": {},
   "source": [
    "# Advanced Problem"
   ]
  },
  {
   "cell_type": "markdown",
   "metadata": {},
   "source": [
    "#### Here, another function is added to the initial diffusion_iteration. It keeps track of the input indices that will be kept constant."
   ]
  },
  {
   "cell_type": "code",
   "execution_count": 15,
   "metadata": {},
   "outputs": [],
   "source": [
    "from numba import njit, prange\n",
    "\n",
    "\n",
    "@njit\n",
    "def diffusion_iteration_advanced(un, *args): \n",
    "    \"\"\"\n",
    "    Perform one diffusion step for all given grid points.\n",
    "    \n",
    "    Parameters\n",
    "    ----------\n",
    "    un : numpy.ndarray\n",
    "        Numpy array of type `float64` and dimension (N + 2, N + 2) that stores the\n",
    "        function values at step n.\n",
    "        \n",
    "    This function returns a Numpy array of dimension (N + 2, N + 2) of type `float64`\n",
    "    that contains the function values after performing one step of the above diffusion\n",
    "    iteration.\n",
    "    \"\"\"\n",
    "    unp1 = np.random.rand(len(un), len(un))\n",
    "    for row_index in prange(len(un)):\n",
    "        for col_index in prange(len(un[row_index])):\n",
    "            if (row_index == 0) or (row_index == len(un) - 1) or (col_index == 0) or (col_index == len(un) -1): \n",
    "                unp1[row_index, col_index] = un[row_index, col_index]\n",
    "            else:\n",
    "                unp1[row_index, col_index] = (un[row_index+1, col_index] +un[row_index-1, col_index] + un[row_index, col_index + 1] + un[row_index, col_index-1])/4\n",
    "    for index in args:\n",
    "        unp1[index[0], index[1]] = un[index[0], index[1]]\n",
    "    \n",
    "    return unp1"
   ]
  },
  {
   "cell_type": "code",
   "execution_count": 16,
   "metadata": {},
   "outputs": [
    {
     "data": {
      "text/plain": [
       "array([[0.60230964, 0.85261479, 0.79392337, ..., 0.48877886, 0.52118983,\n",
       "        0.10143283],\n",
       "       [0.30202607, 0.53376637, 0.62391882, ..., 0.38578605, 0.50935929,\n",
       "        0.47198253],\n",
       "       [0.8776202 , 0.50609979, 0.37324378, ..., 0.34492534, 0.50183357,\n",
       "        0.98343023],\n",
       "       ...,\n",
       "       [0.7793628 , 0.5761378 , 0.43171971, ..., 0.36872654, 0.52520525,\n",
       "        0.8582135 ],\n",
       "       [0.88934373, 0.46792159, 0.65839398, ..., 0.70112037, 0.35529641,\n",
       "        0.19952553],\n",
       "       [0.97696266, 0.69750197, 0.90194636, ..., 0.93121555, 0.66813869,\n",
       "        0.34426192]])"
      ]
     },
     "execution_count": 16,
     "metadata": {},
     "output_type": "execute_result"
    }
   ],
   "source": [
    "un = np.random.rand(100,100)\n",
    "\n",
    "diffusion_iteration_advanced(un, (5,5), (6,5))\n"
   ]
  },
  {
   "cell_type": "code",
   "execution_count": 17,
   "metadata": {},
   "outputs": [
    {
     "data": {
      "text/html": [
       "<video width=\"720\" height=\"720\" controls autoplay loop>\n",
       "  <source type=\"video/mp4\" src=\"data:video/mp4;base64,AAAAHGZ0eXBNNFYgAAACAGlzb21pc28yYXZjMQAAAAhmcmVlAAARJm1kYXQAAAKfBgX//5vcRem9\n",
       "5tlIt5Ys2CDZI+7veDI2NCAtIGNvcmUgMTU3IC0gSC4yNjQvTVBFRy00IEFWQyBjb2RlYyAtIENv\n",
       "cHlsZWZ0IDIwMDMtMjAxOCAtIGh0dHA6Ly93d3cudmlkZW9sYW4ub3JnL3gyNjQuaHRtbCAtIG9w\n",
       "dGlvbnM6IGNhYmFjPTEgcmVmPTMgZGVibG9jaz0xOjA6MCBhbmFseXNlPTB4MzoweDExMyBtZT1o\n",
       "ZXggc3VibWU9NyBwc3k9MSBwc3lfcmQ9MS4wMDowLjAwIG1peGVkX3JlZj0xIG1lX3JhbmdlPTE2\n",
       "IGNocm9tYV9tZT0xIHRyZWxsaXM9MSA4eDhkY3Q9MSBjcW09MCBkZWFkem9uZT0yMSwxMSBmYXN0\n",
       "X3Bza2lwPTEgY2hyb21hX3FwX29mZnNldD0tMiB0aHJlYWRzPTYgbG9va2FoZWFkX3RocmVhZHM9\n",
       "MSBzbGljZWRfdGhyZWFkcz0wIG5yPTAgZGVjaW1hdGU9MSBpbnRlcmxhY2VkPTAgYmx1cmF5X2Nv\n",
       "bXBhdD0wIGNvbnN0cmFpbmVkX2ludHJhPTAgYmZyYW1lcz0zIGJfcHlyYW1pZD0yIGJfYWRhcHQ9\n",
       "MSBiX2JpYXM9MCBkaXJlY3Q9MSB3ZWlnaHRiPTEgb3Blbl9nb3A9MCB3ZWlnaHRwPTIga2V5aW50\n",
       "PTI1MCBrZXlpbnRfbWluPTEgc2NlbmVjdXQ9NDAgaW50cmFfcmVmcmVzaD0wIHJjX2xvb2thaGVh\n",
       "ZD00MCByYz1jcmYgbWJ0cmVlPTEgY3JmPTIzLjAgcWNvbXA9MC42MCBxcG1pbj0wIHFwbWF4PTY5\n",
       "IHFwc3RlcD00IGlwX3JhdGlvPTEuNDAgYXE9MToxLjAwAIAAAAgdZYiEABf//vfUt8yy7VNvtguo\n",
       "96KeJl9DdSUBm5bE7TqAAAADAAADAAADAOlUgmN87gDRjLQAAAMAU8AKmBcQVI0f+RBd1xAJnbss\n",
       "PkIKdB6jbsKQjI4fS8QrM5V57RGGDDbLvN0i1kZ+5RbNpJJIJ3L8nAwy/kqxU8UQd754JjUPfmD5\n",
       "IJQURvTWQCwfJRWzOYRVBmyXYu47RbypNl9AEAaxYHftCzCmP7wgUetQQFC+9ymcLWZelnS/dzEf\n",
       "rFTOTITE19+T8hyQ2Y2IDtoLEthNTZcH8I3xck47VcbusSBF0AABI2yAQ6vbz601NdEvtxPH3/bJ\n",
       "XgrOBn8o0xP65A2yj406cp3mCpcrLldiIV+wtIwAAA0gLvGTYjvRbTAPmVHRYV30ns8EosL43LF6\n",
       "KU3A6awt5Eu9Q8lJ7v+mXzwPe4bNJXx2c+bNeSR2U1uY9Y541gbsZODteAG3xJH/kTjZBJcgjqEB\n",
       "2ysZ84UC3VJMOVV/tUtHSSdY4LN96YqZVQVoZNeBp760eErdTAMu+b34M48pEih+TYehQ3tbSqBr\n",
       "v+070iLqY7Cd9MLoPaRXLRCgRr3ZCbh42x/MaAcOJddKjuGyrPslWvUe67jK8FtoEz2CQYAfmIUG\n",
       "jXa8nyrZSn3SjIflGRfKORHP5R3bhBSxRfpxNQMzWfAwlDGX5aCGEWcPBmOJnhy+t7/50TWXN46j\n",
       "96GJR2RVFrUNrBCg0+9znLi7il4Kp9g+4WBQ0KF7xt5RvMjorC0ymNvVkv/gVFVIrhCGJcRAhuf+\n",
       "Jdmb8EQ1+81ZtwdHkmboKqDgqkCgz+F1cHFSLcO5CN3CFaTR5Rx1vFIAvbhrEJ6+Hrk0l1wQBZfh\n",
       "BdqKT6qSPlquSeqJlwv8ZsiRTelwBQ8Auv70VOL02//6Ox8XYmQjnSkKM8+DW4nU3r3//lylx496\n",
       "2P+W032Y1mcS8yKYvZF8rw9On1FjAUGWoFChSRXni5Zukpp4dH3V4U5430apiMBc5sP7Cc6KBsSt\n",
       "MhgG3bnlawxZMwgzif3ziPKgMYAhIKo85Vwy4Ck5zpZLHlJXql70uab25GTG93KxGk7AOBcavOvo\n",
       "0Vx/rcp+pP4qKLTQIC+Q6Wn0fqrmedAAZtL5pqo/KHiNF0lrMrU6nz7VSam5UDsd4MOYCukAyqCI\n",
       "vK6bCDiZhy6BySStcTlG5+Ig55JCc1nmxZ7D5rcF4Hrf1QdNZo1fX/zPj3f8cMGMXjFKs6GcoYTc\n",
       "qmCWKXoILioboYHJ0u797/7Q3OiaHLY/dzd9X7c9LDxs2AODeL3g5l5MIJT+5kRXUCq3XsTv7PKm\n",
       "7CkehylO2i5mO3OC8ZS5VZg+KFhT0IYkZPSLUwhPmVomZ4oWqaE3hdqmLQFaK9CijOS0PhDSRzkY\n",
       "VfKV+Y2qykzsnwgDFdCWVSqRegC5hvR02Ni0b92F5WbGCy77+3DXiki9OOmbdT5R/cKEo4LCVt9Z\n",
       "NhQE3q2Boc0m8GTqlbWiPausLL8qtJDnlBotMmALJUg3x3GWz+bDrgNpOyCod/QsrPp5phMalTJ5\n",
       "yQqBZsPCXas7zXI1ObUxfs0J8NoZpSTgCQomS0RRg4yjFalGP1KMpgaDjRcJaHdCOM9t90p/RFDN\n",
       "oUi4jrnFyt2zOhMzHL2P6wLhqrgsexjxmH0wEZFHf8wvMTkQMJntwjFO88TudONp+eGPNB4duTP7\n",
       "jHZVCZcR8jjglfNkB8lNXl917KcwODdJlRT3/wvRaRypK99Qrh5G+5IG/9PU9wFpnewiDr+2UKQJ\n",
       "J8JUvyKkzzsdCqGrNpZu/97H1voE+trKH4GV9vtXeQ5R/eoj/9XrTaYe6G108nFG2MBc2XQ2KJjP\n",
       "jCHgH8iFQCnCzWU7ebOgzzS0n9EZ/ou/oAeHh09HVJoR9epND4RrSr1eav+FlxN6oM9TFpK5gAoR\n",
       "Sgx8nVp0OU+8TKAdifnhUamr3NwW7Btv+eXoSPPxf5yIH+zcBnBRygEJfRhqXyHORDKQcnm6G64H\n",
       "mrvacs8yxYas7cIDRyNEyzqs6wSwQJYNvrQGOz6MeqgfPztbk2DlsSpLQnE856GOu9QVBhAtekhC\n",
       "Ezck5wQ2GW4t7fz09Jr//xTf59FjOFpmRJ4kRMeAp9cuVUJOqMNGCoSiTt8OfBozHdT8vATpsejS\n",
       "hV5k/PQ2HbvkivVXSk0U9bjYpXhIw70dWzCfgzsd6OwydRdNYwHgtAxHX+i+V/OLt0kFfTZbAr6U\n",
       "4/+Xad+1eAf+PLNsXP4zVZxvorltj/qjHeHkY2ZtEwRiGHaEGVEOmf7RUmvHzLmmb/17+G1VKzpa\n",
       "0hxTxJ0v5KSpglZxuxTp45C+tXUeYPzlFY8VYcaeM5JWG5OdM1JsovdEGjGCORtHiZ92Ed7dywt9\n",
       "cNt1e1+VQ73/3disk/klz/LDK8g4zTJeNVgpGK21RiilNVvXwKw9he/kW1auAtb3I8UiQt154Wwq\n",
       "yF2j9nx4Fkhnvgm99y8WtDuDi9XfHPBusGE0vE5rQ3hlcv9gaSPxWmuQEmDtePjGEnAA7God/UWb\n",
       "389jn5i/2lhRTMIORilhJcpWOrUd9AG0yrGqtAUUrkpuJhr8eR0sbD1WyqHdWqDGIDgOd/BHWqMw\n",
       "vwsyr07by/VMHS39FVBLHEFPmTD66ZAUaWMT6xVgoKtN9AAW5wMTZDejX48Ar19t9UkHnaMJJXfC\n",
       "Fc205GynOrxcNUwlTcUxg1oybcPqoX4VIq4iOMj5nVdzQmtaNYy3n9EEZ25JdVSvKyocIAAAAwAA\n",
       "AwAAAwBAQQAAAX5BmiJsQX/+2qZYAAADAAADAbLg2unDRmPNH//bwuBXzf/YFluWuZb2lFIPa64q\n",
       "1H2xVpyegAAAAwAAAwAPTy6gLPRVffE7LKAyNazBih+X6TrO//yr6dsrK/4G5ZMqddLS3dMb67zE\n",
       "4M+AvW7kCp4OJgMzMB+ioyJPou4O1nH043pjM4wdb6BqLSvb0nd+ivD7dp0X5Miz7wO+2WjBSt2u\n",
       "T8Oa3y6QGcsbeSCO6Kku4rvWswOQU5rsTHnSHVGB2Y1KLnY1DIOENeQDp/uefNgEsGCMZNw1Eolo\n",
       "Yd4szJwPFmi5YpdGCVNM9LvVTFYpLUoiE3VgXX9RSmXm2TI1PMmdQuBELEqDw/e4APk/pJwSdKjg\n",
       "2unhl9LjZjy05Bx7So0NN9pNcwB0iOP0yNDu4wWXP+3wSTfLRCw/BYdtjSZKmr+86P9gHwEQYHOH\n",
       "Ymqd1xKGRTVOoHlld7unLZuTUgvjWNUywAAAAwEO3z4bvpSf2aqPan1gVu/gYMpNyFnAAAAAnAGe\n",
       "QXkFfwAAAwAAAwABJhNQU+k+zYic7RgZIcoosO/dj+mID44NkFl8S+6K56/wXrSRXXm86gIZnHj2\n",
       "yDi0nnwunUbpz8/oXNOB1YUuV5HFvLSfWkqT4NZKK0WBnhL4t15vPzXkixs2SmjriP1VcWhPnKgg\n",
       "pumrIxQV8VNaGB99IAAAAwADDK321TLCQsAACJvzKKwMmRRHfZcGpQAAAOVBmkY8IZMphBf//tqm\n",
       "WAAAAwAAAwGy51EcMAAb+X9Uf//Zl4C2/8oJ9ji2rTR0cOhTv+YftOeGL1Qr1GSGa10CxquQt/G7\n",
       "7qyXKsh7dNbiBiAjOXdIxhc7ohVNNucvBpZ2she3+vTB1II7ErqjwuY5VSHAAOwd2r/ZCi1YXm87\n",
       "f2hw6DfVF+yRRlguY3KKr32Xc7Fqmr39H+OyaEh5JvX/j/mVHvFjSD7sRmK4tyqrMbBICQJA6nEK\n",
       "54k/mNoaF8eObnCtANq82ZmFoG+0nvHZ50f18LqYuedUywAAAwANY9BWALaAAAAAekGeZGpTwW8A\n",
       "AAMAAAMAAL4v6MCoy3OR1EkNyWf33NeOJ72ukHEYPq58B19rZ+CAJ5lYUNNVvx6MGvdq7Ae7Xu2q\n",
       "VQeXMIMyHgQTh4cyzDR7D6uRfFNAp7Ekat0AoEXEqh0Cxjvwp55wEVBUywAAAwAL6TibIVEKOF3B\n",
       "AAAAOAGeg3RBXwAAAwAAAwABJJNqcbo5xkARdu4XvQBIAAADAAADAq07u2qVQVEJgAAGnl7J4p8b\n",
       "6gb1AAAAPgGehWpBXwAAAwAAAwABJJFeEC7qLEsbTsq/eQAAAwAACRD6x0/2tGWCNdfmNxEAAPXx\n",
       "cLV1KoAAAAMAAEzBAAAA1UGaiEmoQWiZTBTwW//+1qVQAAADAAAFcM1QU2hsBYP//z+B0SkkLgjT\n",
       "knZ1hASEASFR61+iIwc7JpBAAAADAAADAAiMACoFOoAHgoJkWMPLuHJ8WM92FmBVuPN6vAbnuWO0\n",
       "y1wELa9UgkDfbH47HKzEPRHuwg0rHXEBlfanhCRLNmVefa6wJQaZP1Vf5MzpIvA7cUs7Ni4Y0rpX\n",
       "bXhANhmwjzCHg9AAAC0IaHVE9JWOOCa1FwXFepBU7rRi+cPC4NAabXTGUlJ/teOXnKlUAAADAAAJ\n",
       "uQAAALUBnqdqQV8AAAMAAAMAA6EOAU+eQzYl4JweKsyPS9FhHO/jK2yv8lj+9maSAs8U5jDdSY5V\n",
       "YE4kj8N3ahEUSixROBZxMR5ne89aih4UTBotznhWfXpu+veMkrK4A987pHGhOfoVTXSyELlKKi9J\n",
       "4PI7+CqePR1ytrEl4/ACSPzZ2EkmRWVbqZIk5DuCZqkeKmtDA++kAAADAABiH7VKoESkfuoxdRcA\n",
       "AAMAuHeqZYLgAAADABCwAAAAvUGaqUnhClJlMCCv//7WpVAAAAMAAAVwP0QxMr9i/Qa1cjAyhWyn\n",
       "fImwXQDrwCjuwwzBbS5tZd68/3dalUFIVvJbKE+9/YFq9k2XAE582AAAAwAAAwAAAwAFK/dd/wRc\n",
       "9GAAhp58JdnYMlRtwLbsIiSNRFe/iDikcAAG0sh0pqE/X/OFiXXR68hgO3UuZJqVTBBxvB2qel9m\n",
       "tJY7hxyvgAY342NhQPgM6lUF9/3Cc0208Q7gLCnvp3SgA5gE3AAAA6dtb292AAAAbG12aGQAAAAA\n",
       "AAAAAAAAAAAAAAPoAAAnEAABAAABAAAAAAAAAAAAAAAAAQAAAAAAAAAAAAAAAAAAAAEAAAAAAAAA\n",
       "AAAAAAAAAEAAAAAAAAAAAAAAAAAAAAAAAAAAAAAAAAAAAAAAAAACAAAC0XRyYWsAAABcdGtoZAAA\n",
       "AAMAAAAAAAAAAAAAAAEAAAAAAAAnEAAAAAAAAAAAAAAAAAAAAAAAAQAAAAAAAAAAAAAAAAAAAAEA\n",
       "AAAAAAAAAAAAAAAAAEAAAAAC0AAAAtAAAAAAACRlZHRzAAAAHGVsc3QAAAAAAAAAAQAAJxAAAIAA\n",
       "AAEAAAAAAkltZGlhAAAAIG1kaGQAAAAAAAAAAAAAAAAAAEAAAAKAAFXEAAAAAAAtaGRscgAAAAAA\n",
       "AAAAdmlkZQAAAAAAAAAAAAAAAFZpZGVvSGFuZGxlcgAAAAH0bWluZgAAABR2bWhkAAAAAQAAAAAA\n",
       "AAAAAAAAJGRpbmYAAAAcZHJlZgAAAAAAAAABAAAADHVybCAAAAABAAABtHN0YmwAAAC0c3RzZAAA\n",
       "AAAAAAABAAAApGF2YzEAAAAAAAAAAQAAAAAAAAAAAAAAAAAAAAAC0ALQAEgAAABIAAAAAAAAAAEA\n",
       "AAAAAAAAAAAAAAAAAAAAAAAAAAAAAAAAAAAAAAAAAAAY//8AAAAyYXZjQwFkAB//4QAZZ2QAH6zZ\n",
       "QLQW6EAAAAMAQAAAAwCDxgxlgAEABmjr48siwAAAABx1dWlka2hA8l8kT8W6OaUbzwMj8wAAAAAA\n",
       "AAAYc3R0cwAAAAAAAAABAAAACgAAQAAAAAAUc3RzcwAAAAAAAAABAAAAAQAAAGBjdHRzAAAAAAAA\n",
       "AAoAAAABAACAAAAAAAEAAMAAAAAAAQAAQAAAAAABAAFAAAAAAAEAAIAAAAAAAQAAAAAAAAABAABA\n",
       "AAAAAAEAAMAAAAAAAQAAQAAAAAABAACAAAAAABxzdHNjAAAAAAAAAAEAAAABAAAACgAAAAEAAAA8\n",
       "c3RzegAAAAAAAAAAAAAACgAACsQAAAGCAAAAoAAAAOkAAAB+AAAAPAAAAEIAAADZAAAAuQAAAMEA\n",
       "AAAUc3RjbwAAAAAAAAABAAAALAAAAGJ1ZHRhAAAAWm1ldGEAAAAAAAAAIWhkbHIAAAAAAAAAAG1k\n",
       "aXJhcHBsAAAAAAAAAAAAAAAALWlsc3QAAAAlqXRvbwAAAB1kYXRhAAAAAQAAAABMYXZmNTguMjku\n",
       "MTAw\n",
       "\">\n",
       "  Your browser does not support the video tag.\n",
       "</video>"
      ],
      "text/plain": [
       "<IPython.core.display.HTML object>"
      ]
     },
     "execution_count": 17,
     "metadata": {},
     "output_type": "execute_result"
    },
    {
     "data": {
      "image/png": "[encoded data removed]",
      "text/plain": [
       "<Figure size 432x288 with 1 Axes>"
      ]
     },
     "metadata": {
      "needs_background": "light"
     },
     "output_type": "display_data"
    },
    {
     "data": {
      "image/png": "[encoded data removed]",
      "text/plain": [
       "<Figure size 720x720 with 1 Axes>"
      ]
     },
     "metadata": {
      "needs_background": "light"
     },
     "output_type": "display_data"
    }
   ],
   "source": [
    "%matplotlib inline\n",
    "\n",
    "import random\n",
    "import numpy as np\n",
    "\n",
    "import matplotlib.pyplot as plt\n",
    "\n",
    "import matplotlib.animation as animation\n",
    "from IPython.display import HTML\n",
    "\n",
    "fig, ax = plt.subplots()\n",
    "\n",
    "fps = 1\n",
    "nSeconds = 10\n",
    "\n",
    "# First set up the figure, the axis, and the plot element we want to animate\n",
    "\n",
    "fig = plt.figure(figsize=(10,10))\n",
    "u_3dArray = [u0]\n",
    "\n",
    "im = plt.imshow(u0, interpolation='none', aspect='auto', vmin=0, vmax=1)\n",
    "\n",
    "\n",
    "def animate_func(i):\n",
    "    # Append u_3dArray with output of diffusion function)\n",
    "    u_3dArray.append(diffusion_iteration_advanced(u_3dArray[i], (50,10), (50,11), (50,12), (51,10), (53,10), (52,10)))\n",
    "    \n",
    "    im.set_array(u_3dArray[i])\n",
    "    return [im]\n",
    "\n",
    "anim = animation.FuncAnimation(\n",
    "                               fig, \n",
    "                               animate_func, \n",
    "                               frames = nSeconds * fps,\n",
    "                               interval = 1000 / fps, # in ms\n",
    "                               )\n",
    "\n",
    "\n",
    "HTML(anim.to_html5_video())"
   ]
  },
  {
   "cell_type": "code",
   "execution_count": null,
   "metadata": {},
   "outputs": [],
   "source": []
  }
 ],
 "metadata": {
  "kernelspec": {
   "display_name": "Python 3",
   "language": "python",
   "name": "python3"
  },
  "language_info": {
   "codemirror_mode": {
    "name": "ipython",
    "version": 3
   },
   "file_extension": ".py",
   "mimetype": "text/x-python",
   "name": "python",
   "nbconvert_exporter": "python",
   "pygments_lexer": "ipython3",
   "version": "3.8.3"
  }
 },
 "nbformat": 4,
 "nbformat_minor": 4
}
